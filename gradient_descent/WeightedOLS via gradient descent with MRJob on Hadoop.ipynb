{
 "cells": [
  {
   "cell_type": "markdown",
   "metadata": {},
   "source": [
    "# Weighted OLS via gradient descent with MRJob on Hadoop"
   ]
  },
  {
   "cell_type": "markdown",
   "metadata": {},
   "source": [
    "weight each example as: \n",
    "\n",
    "$$weight(x)= abs(1/x)$$\n"
   ]
  },
  {
   "cell_type": "markdown",
   "metadata": {},
   "source": [
    "### Generate data"
   ]
  },
  {
   "cell_type": "code",
   "execution_count": 46,
   "metadata": {
    "collapsed": false
   },
   "outputs": [
    {
     "name": "stderr",
     "output_type": "stream",
     "text": [
      "/home/cloudera/anaconda2/lib/python2.7/site-packages/ipykernel/__main__.py:5: VisibleDeprecationWarning: using a non-integer number instead of an integer will result in an error in the future\n",
      "/home/cloudera/anaconda2/lib/python2.7/site-packages/ipykernel/__main__.py:6: VisibleDeprecationWarning: using a non-integer number instead of an integer will result in an error in the future\n"
     ]
    }
   ],
   "source": [
    " %matplotlib inline\n",
    "import numpy as np\n",
    "import pylab \n",
    "size = 1e+6\n",
    "x = np.random.uniform(-4, 4, size)\n",
    "y = x * 1.0 - 4 + np.random.normal(0,0.5,size)\n",
    "data = zip(y,x)\n",
    "np.savetxt('LinearReg1Mdata.csv',data,delimiter = \",\")\n",
    "\n"
   ]
  },
  {
   "cell_type": "markdown",
   "metadata": {},
   "source": [
    "### Sample data"
   ]
  },
  {
   "cell_type": "code",
   "execution_count": 47,
   "metadata": {
    "collapsed": false
   },
   "outputs": [
    {
     "name": "stdout",
     "output_type": "stream",
     "text": [
      "Overwriting MRSample.py\n"
     ]
    }
   ],
   "source": [
    "%%writefile MRSample.py\n",
    "\n",
    "import numpy as np\n",
    "from mrjob.job import MRJob\n",
    "from mrjob.protocol import RawValueProtocol\n",
    "\n",
    "\n",
    "class MRSample(MRJob):\n",
    "    \n",
    "    # output only the sampled values without a key\n",
    "    OUTPUT_PROTOCOL = RawValueProtocol\n",
    "    \n",
    "    # add a sampling probability switch '--p'\n",
    "    def configure_options(self):\n",
    "        super(MRSample, self).configure_options()\n",
    "        self.add_passthrough_option('--p', type = 'float', default = 0.01)\n",
    "        \n",
    "    \n",
    "    def mapper(self, _, line):\n",
    "        if np.random.uniform(0,1,1) <= self.options.p:\n",
    "            yield None,line\n",
    "    \n",
    "\n",
    "if __name__ == \"__main__\":\n",
    "    MRSample.run()"
   ]
  },
  {
   "cell_type": "code",
   "execution_count": 48,
   "metadata": {
    "collapsed": false
   },
   "outputs": [
    {
     "name": "stdout",
     "output_type": "stream",
     "text": [
      "No configs found; falling back on auto-configuration\n",
      "Creating temp directory /tmp/MRSample.root.20170303.134625.240507\n",
      "Running step 1 of 1...\n",
      "Streaming final output from /tmp/MRSample.root.20170303.134625.240507/output...\n",
      "Removing temp directory /tmp/MRSample.root.20170303.134625.240507...\n"
     ]
    }
   ],
   "source": [
    "!python MRSample.py LinearReg1Mdata.csv --p 0.01 -r local > 'LinearRegression_1percent.txt'"
   ]
  },
  {
   "cell_type": "code",
   "execution_count": 49,
   "metadata": {
    "collapsed": false
   },
   "outputs": [
    {
     "name": "stdout",
     "output_type": "stream",
     "text": [
      "10064 LinearRegression_1percent.txt\r\n"
     ]
    }
   ],
   "source": [
    "!wc -l 'LinearRegression_1percent.txt'"
   ]
  },
  {
   "cell_type": "code",
   "execution_count": 84,
   "metadata": {
    "collapsed": false
   },
   "outputs": [
    {
     "name": "stdout",
     "output_type": "stream",
     "text": [
      "Overwriting MrJobBatchGDUpdate_WeightedLinearRegression.py\n"
     ]
    }
   ],
   "source": [
    "%%writefile MrJobBatchGDUpdate_WeightedLinearRegression.py\n",
    "from mrjob.job import MRJob\n",
    "import numpy as np\n",
    "\n",
    "# This MrJob calculates the gradient of the entire training set \n",
    "#     Mapper: calculate partial gradient for each example  \n",
    "#     \n",
    "class MrJobBatchGDUpdate_WeightedLinearRegression(MRJob):\n",
    "    # run before the mapper processes any input\n",
    "    def read_weightsfile(self):\n",
    "        # Read weights file\n",
    "        with open('weights.txt', 'r') as f:\n",
    "            self.weights = [float(v) for v in f.readline().split(',')]\n",
    "        # Initialze gradient for this iteration\n",
    "        self.partial_Gradient = [0]*len(self.weights)\n",
    "        self.partial_count = 0\n",
    "    \n",
    "    # Calculate partial gradient for each example \n",
    "    def partial_gradient(self, _, line): \n",
    "        D = (map(float,line.split(',')))\n",
    "        # y_hat is the predicted value given current weights\n",
    "        y_hat = self.weights[0]+self.weights[1]*D[1]\n",
    "        # calculate weights for the weighted regression (not to be confused with coefficients)\n",
    "        w = np.abs(1.0/D[1])\n",
    "        # Update parial gradient vector with gradient form current example\n",
    "        self.partial_Gradient =  [self.partial_Gradient[0]+ w*(D[0]-y_hat), self.partial_Gradient[1]+w*(D[0]-y_hat)*D[1]]\n",
    "        self.partial_count = self.partial_count + 1\n",
    "        #yield None, (D[0]-y_hat,(D[0]-y_hat)*D[1],1)\n",
    "    \n",
    "    # Finally emit in-memory partial gradient and partial count\n",
    "    def partial_gradient_emit(self):\n",
    "        yield None, (self.partial_Gradient,self.partial_count)\n",
    "        \n",
    "    # Accumulate partial gradient from mapper and emit total gradient \n",
    "    # Output: key = None, Value = gradient vector\n",
    "    def gradient_accumulater(self, _, partial_Gradient_Record): \n",
    "        total_gradient = [0]*2\n",
    "        total_count = 0\n",
    "        for partial_Gradient,partial_count in partial_Gradient_Record:\n",
    "            total_count = total_count + partial_count\n",
    "            total_gradient[0] = total_gradient[0] + partial_Gradient[0]\n",
    "            total_gradient[1] = total_gradient[1] + partial_Gradient[1]\n",
    "        yield None, [v/total_count for v in total_gradient]\n",
    "    \n",
    "    def steps(self):\n",
    "        return [self.mr(mapper_init=self.read_weightsfile,\n",
    "                       mapper=self.partial_gradient,\n",
    "                       mapper_final=self.partial_gradient_emit,\n",
    "                       reducer=self.gradient_accumulater)] \n",
    "    \n",
    "if __name__ == '__main__':\n",
    "    MrJobBatchGDUpdate_WeightedLinearRegression.run()"
   ]
  },
  {
   "cell_type": "markdown",
   "metadata": {},
   "source": [
    "### Driver"
   ]
  },
  {
   "cell_type": "code",
   "execution_count": 86,
   "metadata": {
    "collapsed": false
   },
   "outputs": [
    {
     "name": "stdout",
     "output_type": "stream",
     "text": [
      "iteration =0  weights = [-2.65958651  1.19283761]\n",
      "iteration =1  weights = [-2.72661642  1.17347585]\n",
      "iteration =2  weights = [-2.79029503  1.15605474]\n",
      "iteration =3  weights = [-2.85078988  1.14037992]\n",
      "iteration =4  weights = [-2.90826016  1.12627648]\n",
      "iteration =5  weights = [-2.96285706  1.11358704]\n",
      "iteration =6  weights = [-3.01472425  1.10216996]\n",
      "iteration =7  weights = [-3.0639982   1.09189777]\n",
      "iteration =8  weights = [-3.11080855  1.08265579]\n",
      "iteration =9  weights = [-3.15527848  1.07434081]\n",
      "iteration =10  weights = [-3.19752501  1.06685996]\n",
      "iteration =11  weights = [-3.23765928  1.06012965]\n",
      "iteration =12  weights = [-3.2757869   1.05407468]\n",
      "iteration =13  weights = [-3.31200821  1.04862738]\n",
      "iteration =14  weights = [-3.34641851  1.04372685]\n",
      "iteration =15  weights = [-3.37910834  1.03931828]\n",
      "iteration =16  weights = [-3.41016373  1.03535238]\n",
      "iteration =17  weights = [-3.43966639  1.03178475]\n",
      "iteration =18  weights = [-3.46769395  1.02857548]\n",
      "iteration =19  weights = [-3.49432017  1.02568864]\n",
      "iteration =20  weights = [-3.5196151   1.02309189]\n",
      "iteration =21  weights = [-3.54364532  1.02075615]\n",
      "iteration =22  weights = [-3.56647405  1.01865524]\n",
      "iteration =23  weights = [-3.58816136  1.0167656 ]\n",
      "iteration =24  weights = [-3.60876433  1.01506605]\n",
      "iteration =25  weights = [-3.62833717  1.0135375 ]\n",
      "iteration =26  weights = [-3.64693138  1.01216279]\n",
      "iteration =27  weights = [-3.66459589  1.0109265 ]\n",
      "iteration =28  weights = [-3.68137719  1.00981472]\n",
      "iteration =29  weights = [-3.69731944  1.00881496]\n",
      "iteration =30  weights = [-3.71246459  1.00791596]\n",
      "iteration =31  weights = [-3.72685248  1.00710761]\n",
      "iteration =32  weights = [-3.74052099  1.0063808 ]\n",
      "iteration =33  weights = [-3.75350609  1.00572733]\n",
      "iteration =34  weights = [-3.76584193  1.00513985]\n",
      "iteration =35  weights = [-3.77756099  1.00461171]\n",
      "iteration =36  weights = [-3.7886941   1.00413695]\n",
      "iteration =37  weights = [-3.79927056  1.00371021]\n",
      "iteration =38  weights = [-3.8093182   1.00332664]\n",
      "iteration =39  weights = [-3.81886347  1.00298191]\n",
      "iteration =40  weights = [-3.82793147  1.0026721 ]\n",
      "iteration =41  weights = [-3.83654608  1.00239371]\n",
      "iteration =42  weights = [-3.84472996  1.00214356]\n",
      "iteration =43  weights = [-3.85250464  1.00191882]\n",
      "iteration =44  weights = [-3.8598906   1.00171691]\n",
      "iteration =45  weights = [-3.86690726  1.00153554]\n",
      "iteration =46  weights = [-3.87357309  1.00137263]\n",
      "iteration =47  weights = [-3.87990563  1.00122633]\n",
      "iteration =48  weights = [-3.88592154  1.00109495]\n",
      "iteration =49  weights = [-3.89163666  1.00097699]\n",
      "iteration =50  weights = [-3.89706603  1.00087109]\n",
      "iteration =51  weights = [-3.90222392  1.00077603]\n",
      "iteration =52  weights = [-3.90712393  1.00069072]\n",
      "iteration =53  weights = [-3.91177893  1.00061416]\n",
      "iteration =54  weights = [-3.91620119  1.00054548]\n",
      "iteration =55  weights = [-3.92040233  1.00048386]\n",
      "iteration =56  weights = [-3.92439342  1.0004286 ]\n",
      "iteration =57  weights = [-3.92818495  1.00037905]\n",
      "iteration =58  weights = [-3.9317869   1.00033463]\n",
      "iteration =59  weights = [-3.93520876  1.00029481]\n",
      "iteration =60  weights = [-3.93845953  1.00025913]\n",
      "iteration =61  weights = [-3.94154776  1.00022717]\n",
      "iteration =62  weights = [-3.94448158  1.00019855]\n",
      "iteration =63  weights = [-3.9472687   1.00017292]\n",
      "iteration =64  weights = [-3.94991647  1.00014998]\n",
      "iteration =65  weights = [-3.95243186  1.00012946]\n",
      "iteration =66  weights = [-3.95482147  1.0001111 ]\n",
      "iteration =67  weights = [-3.9570916   1.00009468]\n",
      "Final weights\n",
      "\n",
      "[-3.95924823  1.00008002]\n"
     ]
    }
   ],
   "source": [
    "from numpy import random,array\n",
    "from MrJobBatchGDUpdate_WeightedLinearRegression import MrJobBatchGDUpdate_WeightedLinearRegression\n",
    "\n",
    "learning_rate = 0.05\n",
    "stop_criteria = 0.000005\n",
    "\n",
    "# Generate random values as inital weights\n",
    "weights = array([random.uniform(-3,3),random.uniform(-3,3)])\n",
    "# Write the weights to the files\n",
    "with open('weights.txt', 'w+') as f:\n",
    "    f.writelines(','.join(str(j) for j in weights))\n",
    "\n",
    "# create a mrjob instance for batch gradient descent update over all data\n",
    "mr_job = MrJobBatchGDUpdate_WeightedLinearRegression(args=['LinearReg1Mdata.csv','--file=weights.txt'])\n",
    "# Update centroids iteratively\n",
    "\n",
    "i = 0\n",
    "while(1):\n",
    "    print \"iteration =\"+str(i)+\"  weights =\",weights\n",
    "    # Save weights from previous iteration\n",
    "    weights_old = weights\n",
    "    with mr_job.make_runner() as runner: \n",
    "        runner.run()\n",
    "        # stream_output: get access of the output \n",
    "        for line in runner.stream_output():\n",
    "            # value is the gradient value\n",
    "            key,value =  mr_job.parse_output_line(line)\n",
    "            # Update weights\n",
    "            weights = weights + learning_rate*array(value)\n",
    "    i = i + 1\n",
    "    # Write the updated weights to file \n",
    "    with open('weights.txt', 'w+') as f:\n",
    "        f.writelines(','.join(str(j) for j in weights))\n",
    "    # Stop if weights get converged\n",
    "    if(sum((weights_old-weights)**2)<stop_criteria):\n",
    "        break\n",
    "        \n",
    "print \"Final weights\\n\"\n",
    "print weights"
   ]
  },
  {
   "cell_type": "markdown",
   "metadata": {},
   "source": [
    "### Create plot"
   ]
  },
  {
   "cell_type": "code",
   "execution_count": 120,
   "metadata": {
    "collapsed": false
   },
   "outputs": [
    {
     "data": {
      "text/plain": [
       "<matplotlib.legend.Legend at 0x7f4dcfa32fd0>"
      ]
     },
     "execution_count": 120,
     "metadata": {},
     "output_type": "execute_result"
    },
    {
     "data": {
      "image/png": "[encoded data removed]",
      "text/plain": [
       "<matplotlib.figure.Figure at 0x7f4dde4e8450>"
      ]
     },
     "metadata": {},
     "output_type": "display_data"
    }
   ],
   "source": [
    "from sklearn.linear_model import LinearRegression\n",
    "\n",
    "# read in simulating data\n",
    "YX = np.genfromtxt('LinearRegression_1percent.txt',delimiter=',',dtype=None)\n",
    "y,x = zip(*YX)\n",
    "\n",
    "\n",
    "# Fit Sklearn linear regression\n",
    "LR = LinearRegression()\n",
    "x= np.array(x).reshape(-1,1)\n",
    "LR.fit(x,y)\n",
    "\n",
    "\n",
    "# generate evaluation points for the x axis\n",
    "xs = np.arange(-4, 4, 0.01)\n",
    "\n",
    "# function to evaluate\n",
    "def get_line(m,x,b):\n",
    "    return m*x+b\n",
    "\n",
    "# add plot\n",
    "plt.scatter(x, y,color='lightblue',alpha=0.3,label='Observations')\n",
    "plt.plot(xs,get_line(1,xs,-4),color='red',label='True')\n",
    "plt.plot(xs,get_line(1.00009468,xs,-3.9570916),label='Estimated - MR')\n",
    "plt.plot(xs,get_line(LR.coef_,xs,LR.intercept_),label = 'Estimated - Sklearn',color='yellow')\n",
    "plt.legend(loc=\"lower right\")"
   ]
  }
 ],
 "metadata": {
  "anaconda-cloud": {},
  "kernelspec": {
   "display_name": "Python [conda env:python2]",
   "language": "python",
   "name": "conda-env-python2-py"
  },
  "language_info": {
   "codemirror_mode": {
    "name": "ipython",
    "version": 2
   },
   "file_extension": ".py",
   "mimetype": "text/x-python",
   "name": "python",
   "nbconvert_exporter": "python",
   "pygments_lexer": "ipython2",
   "version": "2.7.12"
  },
  "toc": {
   "colors": {
    "hover_highlight": "#DAA520",
    "running_highlight": "#FF0000",
    "selected_highlight": "#FFD700"
   },
   "moveMenuLeft": true,
   "nav_menu": {
    "height": "397px",
    "width": "252px"
   },
   "navigate_menu": true,
   "number_sections": true,
   "sideBar": false,
   "threshold": 4,
   "toc_cell": true,
   "toc_section_display": "block",
   "toc_window_display": true
  }
 },
 "nbformat": 4,
 "nbformat_minor": 0
}
