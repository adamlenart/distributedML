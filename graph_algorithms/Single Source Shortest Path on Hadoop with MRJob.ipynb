{
 "cells": [
  {
   "cell_type": "markdown",
   "metadata": {},
   "source": [
    "# Single source shortest path with MRJob on Hadoop"
   ]
  },
  {
   "cell_type": "markdown",
   "metadata": {},
   "source": [
    "## Shortest path graph distances (unit test)\n"
   ]
  },
  {
   "cell_type": "code",
   "execution_count": 1,
   "metadata": {
    "collapsed": false
   },
   "outputs": [
    {
     "name": "stdout",
     "output_type": "stream",
     "text": [
      "Writing directed_toy_graph.txt\n"
     ]
    }
   ],
   "source": [
    "%%writefile directed_toy_graph.txt\n",
    "1\t{'2': 1, '6': 1}\n",
    "2\t{'1': 1, '3': 1, '4': 1}\n",
    "3\t{'2': 1, '4': 1}\n",
    "4\t{'2': 1, '5': 1}\n",
    "5\t{'1': 1, '2': 1, '4': 1}"
   ]
  },
  {
   "cell_type": "code",
   "execution_count": 2,
   "metadata": {
    "collapsed": false
   },
   "outputs": [
    {
     "name": "stdout",
     "output_type": "stream",
     "text": [
      "Writing undirected_toy_graph.txt\n"
     ]
    }
   ],
   "source": [
    "%%writefile undirected_toy_graph.txt\n",
    "1\t{'2': 1,'5': 1}\n",
    "2\t{'1': 1,'3': 1,'4': 1,'5': 1}\n",
    "3\t{'2': 1, '4': 1}\n",
    "4\t{'2': 1,'3': 1,'5': 1}\n",
    "5\t{'1': 1, '2': 1, '4': 1}"
   ]
  },
  {
   "cell_type": "code",
   "execution_count": 3,
   "metadata": {
    "collapsed": false
   },
   "outputs": [
    {
     "name": "stdout",
     "output_type": "stream",
     "text": [
      "Writing undirected_weighted_toy_graph.txt\n"
     ]
    }
   ],
   "source": [
    "%%writefile undirected_weighted_toy_graph.txt\n",
    "1\t{\"2\": 1, \"5\": 100}\n",
    "2\t{\"1\": 1, \"3\": 1, \"5\": 1, \"4\": 1}\n",
    "3\t{\"2\": 1, \"4\": 1}\n",
    "4\t{\"3\": 1, \"2\": 1, \"5\": 1}\n",
    "5\t{\"1\": 100, \"2\": 1, \"4\": 1, \"6\":1}\n",
    "6\t{\"5\": 1, \"7\": 1}\n",
    "7\t{\"6\": 1}"
   ]
  },
  {
   "cell_type": "code",
   "execution_count": 4,
   "metadata": {
    "collapsed": false
   },
   "outputs": [
    {
     "name": "stdout",
     "output_type": "stream",
     "text": [
      "1\t{'2': 1, '6': 1}\n",
      "2\t{'1': 1, '3': 1, '4': 1}\n",
      "3\t{'2': 1, '4': 1}\n",
      "4\t{'2': 1, '5': 1}\n",
      "5\t{'1': 1, '2': 1, '4': 1}\n",
      "----------------------------------------------------------------------------------------------------\n",
      "1\t{'2': 1,'5': 1}\n",
      "2\t{'1': 1,'3': 1,'4': 1,'5': 1}\n",
      "3\t{'2': 1, '4': 1}\n",
      "4\t{'2': 1,'3': 1,'5': 1}\n",
      "5\t{'1': 1, '2': 1, '4': 1}\n",
      "----------------------------------------------------------------------------------------------------\n",
      "1\t{\"2\": 1, \"5\": 100}\n",
      "2\t{\"1\": 1, \"3\": 1, \"5\": 1, \"4\": 1}\n",
      "3\t{\"2\": 1, \"4\": 1}\n",
      "4\t{\"3\": 1, \"2\": 1, \"5\": 1}\n",
      "5\t{\"1\": 100, \"2\": 1, \"4\": 1, \"6\":1}\n",
      "6\t{\"5\": 1, \"7\": 1}\n",
      "7\t{\"6\": 1}"
     ]
    }
   ],
   "source": [
    "!cat directed_toy_graph.txt\n",
    "print \"\\n\",\"-\"*100\n",
    "!cat undirected_toy_graph.txt\n",
    "print \"\\n\",\"-\"*100\n",
    "!cat undirected_weighted_toy_graph.txt"
   ]
  },
  {
   "cell_type": "markdown",
   "metadata": {},
   "source": [
    "<img src=\"http://www.candpgeneration.com/images/graphs.png\" style=\"float:left;\"/>"
   ]
  },
  {
   "cell_type": "code",
   "execution_count": 45,
   "metadata": {
    "collapsed": false
   },
   "outputs": [
    {
     "name": "stdout",
     "output_type": "stream",
     "text": [
      "Overwriting sssp.py\n"
     ]
    }
   ],
   "source": [
    "%%writefile sssp.py\n",
    "\n",
    "from mrjob.job import MRJob # use: define mrjob jobs\n",
    "from mrjob.step import MRStep # use: define steps in mrjob\n",
    "import sys    # use:  prints out maximum integer available at the system\n",
    "import ast    # use: evaluate string literals\n",
    "import os     # use: helps reading in command line arguments\n",
    "import json   # use: load iterations\n",
    "import re\n",
    "import numpy as np # use:\n",
    "\n",
    "def choose_job(job_type):\n",
    "    '''Helps calling the correct job type that matches the command line argument'''\n",
    "\n",
    "    if job_type == 'initialize':\n",
    "        return 'MRShortestPathInitializer'\n",
    "    \n",
    "    elif job_type == 'expand':\n",
    "        return 'MRShortestPathExpander'\n",
    "    else:\n",
    "        raise ValueError(\"Choose 'initialize' or 'expand'.\")\n",
    "\n",
    "class MRShortestPath(MRJob):\n",
    "\n",
    "\n",
    "    def configure_options(self):\n",
    "        super(MRShortestPath, self).configure_options()\n",
    "        self.add_passthrough_option('--source_node', default ='1')\n",
    "\n",
    "    def remove_empty_list(self, l):\n",
    "        return   [x for x in l if x]\n",
    "\n",
    "    def flatten(self,l):\n",
    "         # flatten the remaining list\n",
    "        return self.flatten(l[0]) + (self.flatten(l[1:]) if len(l) > 1 else []) if type(l) is list else [l]\n",
    "\n",
    "\n",
    "    # ------------------------------- MRSteps -------------------------- #\n",
    "    def prepare_graph(self, _, line):\n",
    "        '''Prepares a graph by setting a source node and default values'''\n",
    "\n",
    "        key, value = line.split('\\t')\n",
    "        neighbors = ast.literal_eval(value)\n",
    "        if key == self.options.source_node:\n",
    "            yield key, (neighbors, 0, 'Q',[key])\n",
    "        else:\n",
    "            yield key, (neighbors, sys.maxint, 'U',[])\n",
    "\n",
    "    def expand_frontier(self, _, value):\n",
    "        '''Expands the frontier by adding neighbors to the queue'''\n",
    "\n",
    "        values = json.loads(value)\n",
    "        key, value = values\n",
    "        neighbors, dist, type, path = value\n",
    "        path = self.remove_empty_list(path)\n",
    "        if type == 'Q':\n",
    "            # change type to visited\n",
    "            type = 'V'\n",
    "            # and place neighbors in the queue\n",
    "            for neighbor, neighbor_dist in neighbors.items():\n",
    "                temp_path = tuple(path)\n",
    "                temp_path = temp_path + (neighbor,)\n",
    "                yield neighbor, (None, dist + neighbor_dist, 'Q', temp_path)\n",
    "#                yield neighbor, (None, dist + neighbor_dist, 'Q', temp_path)\n",
    "        yield key, (neighbors, dist, type, path)\n",
    "\n",
    "\n",
    "\n",
    "    def merge_paths(self, key, values):\n",
    "        '''Merges parths in the queue'''\n",
    "        \n",
    "        neighbors, dists, types, paths = {}, (), (), ()\n",
    "        # exhaust the values\n",
    "        for value in values:\n",
    "            # rewrite None as NA because later we will update the dictionary and Nones cannot be keys\n",
    "            if value[0] is None:\n",
    "                value[0] = {\"NA\":\"NA\"}\n",
    "            neighbors.update(value[0])\n",
    "            dists = dists + (value[1],)\n",
    "            types = types + (value[2],)\n",
    "            paths = paths + (value[3],)\n",
    "        # if there is only one element in the stream, it is either visited or unvisited,\n",
    "        #  and requires no action\n",
    "        if len(types) == 1:\n",
    "            yield key, (neighbors, dists, types, paths)\n",
    "        # if there is more than one, merge them\n",
    "        else:\n",
    "            # merge the lines in the queue by removing the nulls ('NA')\n",
    "            neighbors = {neighbor:distance for (neighbor,distance) in neighbors.items() if neighbor is not 'NA'}\n",
    "            # rewrite the distance to the minimal distance\n",
    "            dist = min(dists)\n",
    "            # if any of the nodes in the queue are already visited, set it to visited\n",
    "            type = 'V' if any(type == 'V' for type in types) else 'Q'\n",
    "            yield key, (neighbors, dist, type, paths)\n",
    "\n",
    "\n",
    "\n",
    "class MRShortestPathInitializer(MRShortestPath):\n",
    "\n",
    "    def configure_options(self):\n",
    "        # inherit configurations from parent class\n",
    "        super(MRShortestPathInitializer, self).configure_options()\n",
    "\n",
    "    def steps(self):\n",
    "        return [\n",
    "            MRStep(\n",
    "                mapper = self.prepare_graph\n",
    "            )\n",
    "        ]\n",
    "\n",
    "class MRShortestPathExpander(MRShortestPath):\n",
    "\n",
    "    def configure_options(self):\n",
    "        # inherit configurations from parent class\n",
    "        super(MRShortestPathExpander, self).configure_options()\n",
    "\n",
    "    def steps(self):\n",
    "        return [\n",
    "            MRStep(\n",
    "                mapper = self.expand_frontier,\n",
    "                reducer = self.merge_paths\n",
    "            )\n",
    "        ]\n",
    "\n",
    "\n",
    "\n",
    "if __name__ == '__main__':\n",
    "    job_type = os.environ.get('JOB_TYPE','expand')\n",
    "    eval(choose_job(job_type)).run()\n"
   ]
  },
  {
   "cell_type": "code",
   "execution_count": 72,
   "metadata": {
    "collapsed": false
   },
   "outputs": [
    {
     "name": "stdout",
     "output_type": "stream",
     "text": [
      "Overwriting sssp_driver.py\n"
     ]
    }
   ],
   "source": [
    "%%writefile sssp_driver.py\n",
    "from sssp import MRShortestPath, MRShortestPathInitializer, MRShortestPathExpander\n",
    "import json\n",
    "import sys\n",
    "import re\n",
    "\n",
    "filename = sys.argv[1]\n",
    "source_node = sys.argv[2]\n",
    "end_node = sys.argv[3]\n",
    "\n",
    "\n",
    "# ---------------------------------- initialize graph -------------------------------- #\n",
    "mrJob_init = MRShortestPathInitializer(args=[filename,'--source_node',source_node])\n",
    "with mrJob_init.make_runner() as runner:\n",
    "    runner.run()\n",
    "\n",
    "    with open('graph_input.txt', 'w') as outfile:\n",
    "        for line in runner.stream_output():\n",
    "            out = mrJob_init.parse_output_line(line)\n",
    "            json.dump(out, outfile)\n",
    "            outfile.write('\\n')\n",
    "\n",
    "# --------------------------------- update graph ---------------------------------- #\n",
    "\n",
    "mrJob_update = MRShortestPathExpander(args=['graph_input.txt'])\n",
    "\n",
    "Q_re = re.compile(r'Q')\n",
    "V_re = re.compile(r'V')\n",
    "empty_queue = False\n",
    "iteration_counter = 0\n",
    "while empty_queue == False:\n",
    "#while iteration_counter < 0:\n",
    "\n",
    "    print 'iteration: ', iteration_counter\n",
    "\n",
    "    with mrJob_update.make_runner() as runner:\n",
    "        runner.run()\n",
    "\n",
    "        queue_length = 0\n",
    "\n",
    "        with open('graph_input.txt', 'w') as outfile:\n",
    "            for line in runner.stream_output():\n",
    "                out = mrJob_init.parse_output_line(line)\n",
    "                json.dump(out, outfile)\n",
    "                outfile.write('\\n')\n",
    "                if Q_re.search(str(out[1][2])):\n",
    "                    queue_length += 1\n",
    "\n",
    "                # extract paths leading to the end node\n",
    "                if out[0] == end_node and V_re.search(str(out[1][2])):\n",
    "                    paths = out[1][3]\n",
    "\n",
    "\n",
    "\n",
    "        # stopping criterion\n",
    "        if queue_length == 0:\n",
    "            empty_queue = True\n",
    "            print 'ready!'\n",
    "\n",
    "        iteration_counter += 1\n",
    "\n",
    "# ----------------------------- extract paths --------------------------- #\n",
    "NUM_RE = re.compile(r'[0-9]+')\n",
    "path_lengths = {}\n",
    "shortest_distance = sys.maxint\n",
    "for path in re.split('(\\]\\s*, \\s*\\[)', str(paths)):\n",
    "    p = NUM_RE.findall(path)\n",
    "    if len(p) > 0:\n",
    "        path_lengths.setdefault(len(p), []).append(p)\n",
    "        shortest_distance = min(len(p),shortest_distance)\n",
    "\n",
    "\n",
    "# # ---------------------------- return shortest path(s) ---------------- #\n",
    "\n",
    "print '\\nThe shortest distance is {dist}.\\n The path(s) is (are): {path}'.format(\n",
    "    dist=shortest_distance-1, path=path_lengths[shortest_distance])"
   ]
  },
  {
   "cell_type": "code",
   "execution_count": 73,
   "metadata": {
    "collapsed": false
   },
   "outputs": [
    {
     "name": "stdout",
     "output_type": "stream",
     "text": [
      "iteration:  0\n",
      "iteration:  1\n",
      "iteration:  2\n",
      "ready!\n",
      "\n",
      "The shortest distance is 2.\n",
      " The path(s) is (are): [['1', '2', '4'], ['1', '5', '4']]\n"
     ]
    }
   ],
   "source": [
    "!python sssp_driver.py undirected_toy_graph.txt 1 4 "
   ]
  },
  {
   "cell_type": "code",
   "execution_count": 11,
   "metadata": {
    "collapsed": false
   },
   "outputs": [
    {
     "name": "stdout",
     "output_type": "stream",
     "text": [
      "iteration:  0\n",
      "iteration:  1\n",
      "iteration:  2\n",
      "iteration:  3\n",
      "iteration:  4\n",
      "iteration:  5\n",
      "ready!\n",
      "\n",
      "The shortest distance is 3.\n",
      " The path(s) is (are): [['1', '2', '4', '5']]\n"
     ]
    }
   ],
   "source": [
    "!python sssp_driver.py directed_toy_graph.txt 1 5"
   ]
  },
  {
   "cell_type": "markdown",
   "metadata": {},
   "source": [
    "##  Exploratory data analysis (NLTK synonyms - systems test)</h1>\n"
   ]
  },
  {
   "cell_type": "code",
   "execution_count": 74,
   "metadata": {
    "collapsed": false
   },
   "outputs": [
    {
     "name": "stdout",
     "output_type": "stream",
     "text": [
      "Overwriting MRFrequencyDistribution.py\n"
     ]
    }
   ],
   "source": [
    "%%writefile MRFrequencyDistribution.py\n",
    "\n",
    "from mrjob.job import MRJob\n",
    "from mrjob.step import MRStep\n",
    "import ast\n",
    "\n",
    "class MRFrequencyDistribution(MRJob):\n",
    "\n",
    "    SORT_VALUES = True\n",
    "    \n",
    "    def configure_options(self):\n",
    "        super(MRFrequencyDistribution, self).configure_options()\n",
    "        self.add_passthrough_option('--n_mappers', default='2')\n",
    "        self.add_passthrough_option('--n_reducers', default='1')\n",
    "        \n",
    "\n",
    "    def steps(self):\n",
    "        return [\n",
    "            MRStep(\n",
    "                mapper = self.mapper,\n",
    "                reducer_init = self.reducer_init,\n",
    "                reducer = self.reducer,\n",
    "                reducer_final = self.reducer_final,\n",
    "                jobconf ={\n",
    "                     'mapred.output.key.comparator.class':'org.apache.hadoop.mapred.lib.KeyFieldBasedComparator',\n",
    "                     'mapred.text.key.comparator.options': '-k2n',\n",
    "                     'mapreduce.job.maps':'{0}'.format(self.options.n_mappers),\n",
    "                     'mapreduce.job.reduces':'{0}'.format(self.options.n_reducers)\n",
    "                     }\n",
    "            )\n",
    "\n",
    "        ]\n",
    "\n",
    "    def mapper(self, _, line):\n",
    "        key, value = line.split('\\t')\n",
    "        synonyms = ast.literal_eval(value)\n",
    "        yield int(key), len(synonyms)\n",
    "\n",
    "    def reducer_init(self):\n",
    "        self.n = 0\n",
    "        self.total_link = 0\n",
    "\n",
    "    def reducer(self, key, values):\n",
    "        for value in values:\n",
    "            self.n += 1\n",
    "            self.total_link += value\n",
    "            yield key, int(value)\n",
    "\n",
    "    def reducer_final(self):\n",
    "        yield 'N', (self.n)\n",
    "        yield 'Total', self.total_link\n",
    "\n",
    "\n",
    "if __name__ == \"__main__\":\n",
    "    MRFrequencyDistribution.run()"
   ]
  },
  {
   "cell_type": "code",
   "execution_count": 3,
   "metadata": {
    "collapsed": false
   },
   "outputs": [
    {
     "name": "stdout",
     "output_type": "stream",
     "text": [
      "Number of nodes: 8271\n",
      "\n",
      "Average number of links per node: 7.39136742836\n"
     ]
    }
   ],
   "source": [
    "from MRFrequencyDistribution import MRFrequencyDistribution\n",
    "import json\n",
    "\n",
    "mrJob = MRFrequencyDistribution(args=['synNet.txt','-r','local','q'])\n",
    "\n",
    "with mrJob.make_runner() as runner:\n",
    "    runner.run()\n",
    "    \n",
    "    N = []\n",
    "    Total = []\n",
    "    num_links = []\n",
    "    with open('res.txt', 'w') as outfile:\n",
    "        for line in runner.stream_output():\n",
    "            out = mrJob.parse_output_line(line)\n",
    "            json.dump(out, outfile)\n",
    "            if out[0] == 'N':\n",
    "                N.append(out[1])\n",
    "            elif out[0] == 'Total':\n",
    "                Total.append(out[1])\n",
    "            else:\n",
    "                num_links.append(out[1])\n",
    "            outfile.write('\\n')\n",
    "\n",
    "            \n",
    "# --------------------------- calculate statistics ------------------------ #            \n",
    "N = sum(N)\n",
    "TOTAL = sum(Total)\n",
    "            \n",
    "print 'Number of nodes: {0}\\n'.format(N)\n",
    "print 'Average number of links per node: {0}'.format(float(TOTAL)/N)\n"
   ]
  },
  {
   "cell_type": "code",
   "execution_count": 15,
   "metadata": {
    "collapsed": false
   },
   "outputs": [
    {
     "data": {
      "text/plain": [
       "<matplotlib.text.Text at 0x7f6c9ad36dd0>"
      ]
     },
     "execution_count": 15,
     "metadata": {},
     "output_type": "execute_result"
    },
    {
     "data": {
      "image/png": "[encoded data removed]",
      "text/plain": [
       "<matplotlib.figure.Figure at 0x7f6c9ae40350>"
      ]
     },
     "metadata": {},
     "output_type": "display_data"
    }
   ],
   "source": [
    "%matplotlib inline\n",
    "import matplotlib.pyplot as plt\n",
    "import numpy as np\n",
    "\n",
    "sorted_num_links = np.sort(num_links)\n",
    "yvals = 1-np.arange(len(sorted_num_links))/float(len(sorted_num_links))\n",
    "plt.plot(np.log10(sorted_num_links), np.log10(yvals))\n",
    "plt.title('ECDF on log-log axes')\n",
    "plt.xlabel('Number of links (powers of 10)')\n",
    "plt.ylabel('Distribution (powers of 10)')\n"
   ]
  },
  {
   "cell_type": "markdown",
   "metadata": {},
   "source": [
    "For some reason, the network literature uses the survival function but calls it the cumulative distribution function to investigate the power law properties of networks. A linear log-log ECDF plot would imply a (random) power law network. This curved power law rather resembles cumulative distribution function of scale-free networks. "
   ]
  },
  {
   "cell_type": "markdown",
   "metadata": {},
   "source": [
    "<h1 style=\"color:#021353;\"> Shortest path graph distances (NLTK synonyms)</h1>\n",
    "\n"
   ]
  },
  {
   "cell_type": "code",
   "execution_count": 9,
   "metadata": {
    "collapsed": false
   },
   "outputs": [
    {
     "name": "stdout",
     "output_type": "stream",
     "text": [
      "Overwriting MRShortestPathInitializer.py\n"
     ]
    }
   ],
   "source": [
    "%%writefile MRShortestPathInitializer.py\n",
    "from mrjob.job import MRJob\n",
    "from mrjob.step import MRStep\n",
    "from mrjob.protocol import RawProtocol\n",
    "import ast\n",
    "import sys\n",
    "\n",
    "\n",
    "class MRShortestPathInitializer(MRJob):\n",
    "    OUTPUT_PROTOCOL = RawProtocol\n",
    "\n",
    "    def configure_options(self):\n",
    "        super(MRShortestPathInitializer, self).configure_options()\n",
    "        self.add_passthrough_option('--source_node', default='1')\n",
    "        self.add_passthrough_option('--n_mappers', default='2')\n",
    "        \n",
    "    def steps(self):\n",
    "        return [\n",
    "            MRStep(\n",
    "                mapper = self.mapper,\n",
    "                jobconf ={\n",
    "                     'mapreduce.job.maps':'{0}'.format(self.options.n_mappers),\n",
    "                     }\n",
    "            )  \n",
    "        ]\n",
    "\n",
    "    # ------------------------------- MRSteps -------------------------- #\n",
    "    def mapper(self, _, line):\n",
    "        '''Prepares a graph by setting a source node and default values'''\n",
    "\n",
    "        key, value = line.split('\\t')\n",
    "        neighbors = ast.literal_eval(value)\n",
    "        if key == self.options.source_node:\n",
    "            yield key, str(neighbors) + \";\" + \"0\" + \";\" + 'Q' + \";\" + str([key])\n",
    "        else:\n",
    "            yield key, str(neighbors) + \";\" + str(sys.maxint) + \";\" + 'U' + \";\" + str([])\n",
    "\n",
    "\n",
    "\n",
    "if __name__ == '__main__':\n",
    "    MRShortestPathInitializer.run()\n"
   ]
  },
  {
   "cell_type": "code",
   "execution_count": 28,
   "metadata": {
    "collapsed": false
   },
   "outputs": [
    {
     "name": "stdout",
     "output_type": "stream",
     "text": [
      "Overwriting MRShortestPathExpander.py\n"
     ]
    }
   ],
   "source": [
    "%%writefile MRShortestPathExpander.py\n",
    "from mrjob.job import MRJob  # use: define mrjob jobs\n",
    "from mrjob.step import MRStep  # use: define steps in mrjob\n",
    "from mrjob.protocol import RawProtocol\n",
    "import sys  # use:  prints out maximum integer available at the system\n",
    "import ast  # use: evaluate string literals\n",
    "import os  # use: helps reading in command line arguments\n",
    "import json  # use: load iterations\n",
    "import re\n",
    "import numpy as np  # use:\n",
    "\n",
    "\n",
    "class MRShortestPathExpander(MRJob):\n",
    "\n",
    "    OUTPUT_PROTOCOL = RawProtocol\n",
    "    TYPE_RE = re.compile(r'[A-Z]')\n",
    "    NUM_RE = re.compile(r'[0-9]+')\n",
    "    Q_RE = re.compile(r'Q')\n",
    "\n",
    "    def configure_options(self):\n",
    "        super(MRShortestPathExpander, self).configure_options()\n",
    "        self.add_passthrough_option('--source_node', default='1')\n",
    "        self.add_passthrough_option('--n_mappers', default='2')\n",
    "        self.add_passthrough_option('--n_reducers', default='1')\n",
    "\n",
    "    def remove_empty_list(self, l):\n",
    "        return [x for x in l if x]\n",
    "\n",
    "    def flatten(self, l):\n",
    "        # flatten the remaining list\n",
    "        return self.flatten(l[0]) + (self.flatten(l[1:]) if len(l) > 1 else []) if type(l) is list else [l]\n",
    "    \n",
    "    def steps(self):\n",
    "        return [\n",
    "            MRStep(\n",
    "                mapper = self.expand_frontier,\n",
    "                reducer = self.merge_paths,\n",
    "                jobconf ={\n",
    "                     'mapreduce.job.maps':'{0}'.format(self.options.n_mappers),\n",
    "                     'mapreduce.job.reduces':'{0}'.format(self.options.n_reducers)\n",
    "                     }\n",
    "            )  \n",
    "        ]\n",
    "\n",
    "\n",
    "    # ------------------------------- MRSteps -------------------------- #\n",
    "\n",
    "    def expand_frontier(self, _, line):\n",
    "        '''Expands the frontier by adding neighbors to the queue'''\n",
    "\n",
    "        #        values = json.loads(value)\n",
    "        key, value = line.replace('\\\"', '').split('\\t')\n",
    "        neighbors, dist, node_type, path = value.split(\";\")\n",
    "        neighbors = ast.literal_eval(neighbors)\n",
    "        path = ast.literal_eval(path)\n",
    "        dist = ast.literal_eval(dist)\n",
    "        if self.Q_RE.search(str(node_type)):\n",
    "            # change type to visited\n",
    "            node_type = 'V'\n",
    "            # and place neighbors in the queue\n",
    "            for neighbor, neighbor_dist in neighbors.items():\n",
    "                temp_path = tuple(path)\n",
    "                temp_path = temp_path + (neighbor,)\n",
    "                try:\n",
    "                    yield neighbor, (\"NA\", int(dist)+neighbor_dist, 'Q', temp_path)\n",
    "#                    yield neighbor, \"{'NA':0}\" + \";\" + str(int(dist) + neighbor_dist) + \";\" + 'Q' + \";\" + str(temp_path)\n",
    "                except TypeError:\n",
    "#                    yield neighbor, \"{'NA':0}\" + \";\" + str(dist[0] + neighbor_dist) + \";\" + 'Q' + \";\" + str(temp_path)\n",
    "                   yield neighbor, (\"NA\", int(dist[0]) + neighbor_dist, 'Q', temp_path)\n",
    "#                yield neighbor, (None, int(dist) + neighbor_dist, 'Q', temp_path)\n",
    "#        yield key, str(neighbors) + \";\" + str(dist) + \";\" + str(node_type) + \";\" + str(path)\n",
    "        yield key, (neighbors, dist, node_type, path)\n",
    "\n",
    "\n",
    "\n",
    "\n",
    "    def merge_paths(self, key, values):\n",
    "        '''Merges parths in the queue'''\n",
    "\n",
    "\n",
    "        neighbors, dists, types, paths = {}, [], [], []\n",
    "        # exhaust the values\n",
    "        for value in values:\n",
    "\n",
    "            # rewrite None as NA because later we will update the dictionary and Nones cannot be keys\n",
    "            if value[0] == 'NA':\n",
    "                value[0] = {\"NA\": 0}\n",
    "            neighbors.update(value[0])\n",
    "            dists .append(value[1])\n",
    "            types.append(value[2])\n",
    "            paths.append(value[3])\n",
    "        # if there is only one element in the stream, it is either visited or unvisited,\n",
    "        #  and requires no action\n",
    "        if len(types) == 1:\n",
    "            yield key, str(neighbors) + ';' + str(dists) + ';' + str(types) + \";\"  + str(paths)\n",
    "        # if there is more than one, merge them\n",
    "        else:\n",
    "            # merge the lines in the queue by removing the nulls ('NA')\n",
    "            #neighbors = {neighbor: distance for (neighbor, distance) in neighbors.items() if neighbor is not 'NA'}\n",
    "            neighbors = dict((neighbor,distance) for (neighbor,distance) in neighbors.items() if neighbor is not 'NA')\n",
    "            # rewrite the distance to the minimal distance\n",
    "            dist = min(dists)\n",
    "            # if any of the nodes in the queue are already visited, set it to visited\n",
    "            type = 'V' if any(type == 'V' for type in self.TYPE_RE.findall(str(types))) else 'Q'\n",
    "            paths = self.remove_empty_list(paths)\n",
    "            if key != \"NA\":\n",
    "                yield key, str(neighbors) + \";\" + str(dist) + ';' + str(type) + \";\"+ str(paths)\n",
    "\n",
    "\n",
    "\n",
    "if __name__ == '__main__':\n",
    "    MRShortestPathExpander.run()\n"
   ]
  },
  {
   "cell_type": "code",
   "execution_count": 98,
   "metadata": {
    "collapsed": false
   },
   "outputs": [
    {
     "name": "stdout",
     "output_type": "stream",
     "text": [
      "Overwriting MRShortestPathFinder.py\n"
     ]
    }
   ],
   "source": [
    "%%writefile MRShortestPathFinder.py\n",
    "from mrjob.job import MRJob\n",
    "from mrjob.step import MRStep\n",
    "import sys\n",
    "import re\n",
    "import ast\n",
    "\n",
    "class MRShortestPathFinder(MRJob):\n",
    "    '''Calculates the shortest distance between source and target node.\n",
    "\n",
    "    Options:\n",
    "    --------\n",
    "    Target node, set with the --target_node switch when calling the function\n",
    "\n",
    "    Returns:\n",
    "    target node, (shortest distance, all paths that have the shortest distance)\n",
    "    '''\n",
    "\n",
    "\n",
    "\n",
    "    def configure_options(self):\n",
    "        super(MRShortestPathFinder, self).configure_options()\n",
    "        self.add_passthrough_option('--target_node', default='1')\n",
    "        self.add_passthrough_option('--n_mappers', default='2')\n",
    "        \n",
    "    def steps(self):\n",
    "        return [\n",
    "            MRStep(\n",
    "                mapper_init = self.mapper_init,\n",
    "                mapper = self.mapper,\n",
    "                jobconf ={\n",
    "                     'mapreduce.job.maps':'{0}'.format(self.options.n_mappers),\n",
    "                     }\n",
    "            )  \n",
    "        ]\n",
    "\n",
    "\n",
    "    def mapper_init(self):\n",
    "        self.NUM_RE = re.compile(r'[0-9]+')\n",
    "        self.path_lengths = {}\n",
    "        self.shortest_distance = sys.maxint\n",
    "\n",
    "    def mapper(self, _, line):\n",
    "        key, value = line.replace('\\\"', '').split('\\t')\n",
    "        #       yield key, value\n",
    "        if key == self.options.target_node:\n",
    "            neighbors, dist, node_type, paths = value.split(\";\")\n",
    "            try:\n",
    "                self.shortest_distance = int(dist)\n",
    "            except ValueError:\n",
    "                self.shortest_distance = int(ast.literal_eval(dist)[0])\n",
    "\n",
    "            for path in re.split('(\\]\\s*, \\s*\\[)', str(paths)):\n",
    "                p = self.NUM_RE.findall(path)\n",
    "                if len(p) == self.shortest_distance+1 and any(node == self.options.target_node for node in p):\n",
    "                    self.path_lengths.setdefault(len(p), []).append(p)\n",
    "                    yield key, (self.shortest_distance, p)\n",
    "\n",
    "\n",
    "\n",
    "if __name__ == \"__main__\":\n",
    "    MRShortestPathFinder.run()"
   ]
  },
  {
   "cell_type": "code",
   "execution_count": 45,
   "metadata": {
    "collapsed": false
   },
   "outputs": [
    {
     "name": "stdout",
     "output_type": "stream",
     "text": [
      "Overwriting MRVisitChecker.py\n"
     ]
    }
   ],
   "source": [
    "%%writefile MRVisitChecker.py\n",
    "from mrjob.job import MRJob\n",
    "from mrjob.step import MRStep\n",
    "import re\n",
    "\n",
    "class MRVisitChecker(MRJob):\n",
    "    '''Checks whether the target node is visited.\n",
    "\n",
    "    Returns:\n",
    "    --------\n",
    "    As many rows as mappers, each row is (null, True or False), if True, there are no nodes left in the queue.\n",
    "    If all mappers return True, the network (all connected components to the source node) is explored.\n",
    "    '''\n",
    "\n",
    "    def configure_options(self):\n",
    "        super(MRVisitChecker, self).configure_options()\n",
    "        self.add_passthrough_option('--target_node', default='1')\n",
    "        self.add_passthrough_option('--n_mappers', default='2')\n",
    "        \n",
    "    def steps(self):\n",
    "        return [\n",
    "            MRStep(\n",
    "                mapper = self.mapper,\n",
    "                mapper_final = self.mapper_final,\n",
    "                jobconf ={\n",
    "                     'mapreduce.job.maps':'{0}'.format(self.options.n_mappers),\n",
    "                     }\n",
    "            )  \n",
    "        ]\n",
    "\n",
    "\n",
    "\n",
    "    TYPE_RE = re.compile(r'[A-Z]')\n",
    "    V_RE = re.compile(r'V')\n",
    "    # every mapper that has a node in the queue (Q) will set COMPLETE to False\n",
    "    VISITED = False\n",
    "\n",
    "    def mapper(self, key, line):\n",
    "        key, value = line.replace('\\\"', '').split('\\t')\n",
    "        #       yield key, value\n",
    "        if key == self.options.target_node:\n",
    "            neighbors, dist, node_type, paths = value.split(\";\")\n",
    "            node_type = self.TYPE_RE.findall(str(node_type))[0]\n",
    "            if self.V_RE.search(str(node_type)):\n",
    "                self.VISITED = True\n",
    "\n",
    "    def mapper_final(self):\n",
    "        yield None, str(self.VISITED)\n",
    "\n",
    "if __name__ == \"__main__\":\n",
    "    MRVisitChecker.run()\n",
    "\n"
   ]
  },
  {
   "cell_type": "code",
   "execution_count": 46,
   "metadata": {
    "collapsed": false
   },
   "outputs": [
    {
     "name": "stdout",
     "output_type": "stream",
     "text": [
      "mkdir: `/tmp/alenart_hdfs/sn72': File exists\r\n"
     ]
    }
   ],
   "source": [
    "!hadoop fs -mkdir /tmp/alenart_hdfs/sn72"
   ]
  },
  {
   "cell_type": "code",
   "execution_count": 95,
   "metadata": {
    "collapsed": false
   },
   "outputs": [
    {
     "name": "stdout",
     "output_type": "stream",
     "text": [
      "Overwriting shortest_path_driver.sh\n"
     ]
    }
   ],
   "source": [
    "%%writefile shortest_path_driver.sh\n",
    "#!/bin/bash\n",
    "\n",
    "HDFS_FOLDER=/tmp/alenart_hdfs/sn72\n",
    "DATA=synNet.txt\n",
    "PYTHON_BIN=/opt/anaconda2/bin/python2.7\n",
    "VISITED=0\n",
    "SOURCE_NODE=7827\n",
    "TARGET_NODE=536\n",
    "i=1\n",
    "\n",
    "hadoop fs -rm -r $HDFS_FOLDER/new\n",
    "\n",
    "echo \"Initializing the graph.\"\n",
    "$PYTHON_BIN MRShortestPathInitializer.py $DATA -r hadoop --no-output --output-dir $HDFS_FOLDER/new \\\n",
    "        --source_node $SOURCE_NODE -q\n",
    "\n",
    "\n",
    "while (($VISITED == 0))\n",
    "   do\n",
    "      echo \"iteration $i\"\n",
    "      ((i = i + 1))\n",
    "      echo \"Clean up.\"\n",
    "      hadoop fs -rm -r $HDFS_FOLDER/visit\n",
    "      hadoop fs -rm -r $HDFS_FOLDER/old\n",
    "      hadoop fs -mv $HDFS_FOLDER/new $HDFS_FOLDER/old\n",
    "      echo \"Expand frontier.\"\n",
    "      $PYTHON_BIN MRShortestPathExpander.py hdfs://$HDFS_FOLDER/old/* -r hadoop --no-output \\\n",
    "       --output-dir $HDFS_FOLDER/new -q\n",
    "      echo \"Checking whether node $TARGET_NODE is visited...\"\n",
    "      $PYTHON_BIN MRVisitChecker.py hdfs://$HDFS_FOLDER/new/* -r hadoop --no-output --output-dir $HDFS_FOLDER/visit \\\n",
    "       --target_node $TARGET_NODE -q\n",
    "      VISITED=$(hadoop fs -cat $HDFS_FOLDER/visit/* | grep 'True' | wc -l)\n",
    "      if [ $VISITED -eq 0 ]; then\n",
    "          echo \"Not yet.\"\n",
    "      fi\n",
    "done\n",
    "\n",
    "echo \"$TARGET_NODE is visited.\"\n",
    "\n",
    "echo \"Clean up.\"\n",
    "hadoop fs -rm -r $HDFS_FOLDER/result\n",
    "echo \"Returning shortest path(s):\"\n",
    "$PYTHON_BIN MRShortestPathFinder.py hdfs://$HDFS_FOLDER/new/* -r hadoop --target_node $TARGET_NODE --no-output \\\n",
    "     --output-dir $HDFS_FOLDER/result -q\n",
    "hadoop fs -cat $HDFS_FOLDER/result/*"
   ]
  },
  {
   "cell_type": "code",
   "execution_count": 99,
   "metadata": {
    "collapsed": false
   },
   "outputs": [
    {
     "name": "stdout",
     "output_type": "stream",
     "text": [
      "17/03/14 16:32:06 INFO fs.TrashPolicyDefault: Namenode trash configuration: Deletion interval = 5760 minutes, Emptier interval = 360 minutes.\n",
      "Moved: 'hdfs://nn-ia.s3s.altiscale.com:8020/tmp/alenart_hdfs/sn72/new' to trash at: hdfs://nn-ia.s3s.altiscale.com:8020/user/alenart/.Trash/Current\n",
      "Initializing the graph.\n",
      "iteration 1\n",
      "Clean up.\n",
      "17/03/14 16:32:46 INFO fs.TrashPolicyDefault: Namenode trash configuration: Deletion interval = 5760 minutes, Emptier interval = 360 minutes.\n",
      "Moved: 'hdfs://nn-ia.s3s.altiscale.com:8020/tmp/alenart_hdfs/sn72/visit' to trash at: hdfs://nn-ia.s3s.altiscale.com:8020/user/alenart/.Trash/Current\n",
      "17/03/14 16:32:49 INFO fs.TrashPolicyDefault: Namenode trash configuration: Deletion interval = 5760 minutes, Emptier interval = 360 minutes.\n",
      "Moved: 'hdfs://nn-ia.s3s.altiscale.com:8020/tmp/alenart_hdfs/sn72/old' to trash at: hdfs://nn-ia.s3s.altiscale.com:8020/user/alenart/.Trash/Current\n",
      "Expand frontier.\n",
      "Checking whether node 536 is visited...\n",
      "Not yet.\n",
      "iteration 2\n",
      "Clean up.\n",
      "17/03/14 16:34:24 INFO fs.TrashPolicyDefault: Namenode trash configuration: Deletion interval = 5760 minutes, Emptier interval = 360 minutes.\n",
      "Moved: 'hdfs://nn-ia.s3s.altiscale.com:8020/tmp/alenart_hdfs/sn72/visit' to trash at: hdfs://nn-ia.s3s.altiscale.com:8020/user/alenart/.Trash/Current\n",
      "17/03/14 16:34:26 INFO fs.TrashPolicyDefault: Namenode trash configuration: Deletion interval = 5760 minutes, Emptier interval = 360 minutes.\n",
      "Moved: 'hdfs://nn-ia.s3s.altiscale.com:8020/tmp/alenart_hdfs/sn72/old' to trash at: hdfs://nn-ia.s3s.altiscale.com:8020/user/alenart/.Trash/Current\n",
      "Expand frontier.\n",
      "Checking whether node 536 is visited...\n",
      "Not yet.\n",
      "iteration 3\n",
      "Clean up.\n",
      "17/03/14 16:35:57 INFO fs.TrashPolicyDefault: Namenode trash configuration: Deletion interval = 5760 minutes, Emptier interval = 360 minutes.\n",
      "Moved: 'hdfs://nn-ia.s3s.altiscale.com:8020/tmp/alenart_hdfs/sn72/visit' to trash at: hdfs://nn-ia.s3s.altiscale.com:8020/user/alenart/.Trash/Current\n",
      "17/03/14 16:35:59 INFO fs.TrashPolicyDefault: Namenode trash configuration: Deletion interval = 5760 minutes, Emptier interval = 360 minutes.\n",
      "Moved: 'hdfs://nn-ia.s3s.altiscale.com:8020/tmp/alenart_hdfs/sn72/old' to trash at: hdfs://nn-ia.s3s.altiscale.com:8020/user/alenart/.Trash/Current\n",
      "Expand frontier.\n",
      "Checking whether node 536 is visited...\n",
      "Not yet.\n",
      "iteration 4\n",
      "Clean up.\n",
      "17/03/14 16:37:27 INFO fs.TrashPolicyDefault: Namenode trash configuration: Deletion interval = 5760 minutes, Emptier interval = 360 minutes.\n",
      "Moved: 'hdfs://nn-ia.s3s.altiscale.com:8020/tmp/alenart_hdfs/sn72/visit' to trash at: hdfs://nn-ia.s3s.altiscale.com:8020/user/alenart/.Trash/Current\n",
      "17/03/14 16:37:30 INFO fs.TrashPolicyDefault: Namenode trash configuration: Deletion interval = 5760 minutes, Emptier interval = 360 minutes.\n",
      "Moved: 'hdfs://nn-ia.s3s.altiscale.com:8020/tmp/alenart_hdfs/sn72/old' to trash at: hdfs://nn-ia.s3s.altiscale.com:8020/user/alenart/.Trash/Current\n",
      "Expand frontier.\n",
      "Checking whether node 536 is visited...\n",
      "536 is visited.\n",
      "Clean up.\n",
      "17/03/14 16:39:12 INFO fs.TrashPolicyDefault: Namenode trash configuration: Deletion interval = 5760 minutes, Emptier interval = 360 minutes.\n",
      "Moved: 'hdfs://nn-ia.s3s.altiscale.com:8020/tmp/alenart_hdfs/sn72/result' to trash at: hdfs://nn-ia.s3s.altiscale.com:8020/user/alenart/.Trash/Current\n",
      "Returning shortest path(s):\n",
      "\"536\"\t[3, [\"7827\", \"1426\", \"631\", \"536\"]]\n",
      "\"536\"\t[3, [\"7827\", \"1426\", \"4652\", \"536\"]]\n",
      "\"536\"\t[3, [\"7827\", \"1426\", \"448\", \"536\"]]\n",
      "\"536\"\t[3, [\"7827\", \"1426\", \"3555\", \"536\"]]\n",
      "\"536\"\t[3, [\"7827\", \"4655\", \"264\", \"536\"]]\n",
      "\"536\"\t[3, [\"7827\", \"1426\", \"3552\", \"536\"]]\n",
      "\"536\"\t[3, [\"7827\", \"1426\", \"3554\", \"536\"]]\n",
      "\"536\"\t[3, [\"7827\", \"4655\", \"1681\", \"536\"]]\n",
      "\"536\"\t[3, [\"7827\", \"1426\", \"1688\", \"536\"]]\n",
      "\"536\"\t[3, [\"7827\", \"4655\", \"2160\", \"536\"]]\n",
      "\"536\"\t[3, [\"7827\", \"1426\", \"3553\", \"536\"]]\n",
      "\"536\"\t[3, [\"7827\", \"1426\", \"3993\", \"536\"]]\n",
      "\"536\"\t[3, [\"7827\", \"1426\", \"1668\", \"536\"]]\n"
     ]
    }
   ],
   "source": [
    "!bash shortest_path_driver.sh"
   ]
  },
  {
   "cell_type": "code",
   "execution_count": 104,
   "metadata": {
    "collapsed": false
   },
   "outputs": [],
   "source": [
    "!hadoop fs -cat /tmp/alenart_hdfs/sn72/result/* > result72.txt"
   ]
  },
  {
   "cell_type": "code",
   "execution_count": 139,
   "metadata": {
    "collapsed": false
   },
   "outputs": [
    {
     "name": "stdout",
     "output_type": "stream",
     "text": [
      "walk >>> pass >>> draw >>> make\n",
      "walk >>> pass >>> clearing >>> make\n",
      "walk >>> pass >>> giving >>> make\n",
      "walk >>> pass >>> drew >>> make\n",
      "walk >>> passes >>> give >>> make\n",
      "walk >>> pass >>> drawings >>> make\n",
      "walk >>> pass >>> draws >>> make\n",
      "walk >>> passes >>> reach >>> make\n",
      "walk >>> pass >>> given >>> make\n",
      "walk >>> passes >>> clear >>> make\n",
      "walk >>> pass >>> drawn >>> make\n",
      "walk >>> pass >>> gives >>> make\n",
      "walk >>> pass >>> Give >>> make\n"
     ]
    }
   ],
   "source": [
    "import ast\n",
    "\n",
    "indexdict = {}\n",
    "with open('result72.txt','r') as infile, open('indices.txt','r') as indices:\n",
    "    for row in indices:\n",
    "        word, index = row.strip().split()\n",
    "        indexdict[index] = word\n",
    "    for line in infile:\n",
    "        key, value = line.strip().split('\\t')\n",
    "        value = ast.literal_eval(str(value))\n",
    "        values = [indexdict[value] for value in value[1]]\n",
    "        print \" >>> \".join(values)"
   ]
  },
  {
   "cell_type": "markdown",
   "metadata": {},
   "source": [
    "<h1 style=\"color:#021353;\">Exploratory data analysis (Wikipedia)</h1>\n",
    "<div style=\"margin:10px;border-left:5px solid #eee;\">\n",
    "<pre style=\"font-family:sans-serif;background-color:transparent\">\n",
    "\n",
    "</pre>\n",
    "</div>"
   ]
  },
  {
   "cell_type": "code",
   "execution_count": 2,
   "metadata": {
    "collapsed": false
   },
   "outputs": [
    {
     "name": "stdout",
     "output_type": "stream",
     "text": [
      "/bin/sh: 1: hadoop: not found\n",
      "python: can't open file 'MRFrequencyDistribution.py': [Errno 2] No such file or directory\n"
     ]
    }
   ],
   "source": [
    "\n",
    "!hadoop fs -rm -r /tmp/alenart_hdfs/eda73\n",
    "!python MRFrequencyDistribution.py hdfs:///tmp/hw7/wiki_out.txt -r hadoop -q\\\n",
    "    --no-output --output-dir /tmp/alenart_hdfs/eda73 --n_mappers 150 --n_reducers 15\n"
   ]
  },
  {
   "cell_type": "code",
   "execution_count": 21,
   "metadata": {
    "collapsed": false
   },
   "outputs": [],
   "source": [
    "!hadoop fs -cat /tmp/alenart_hdfs/eda73/* | grep 'Total' > totals.txt\n",
    "!hadoop fs -cat /tmp/alenart_hdfs/eda73/* | grep 'N' > Ns.txt"
   ]
  },
  {
   "cell_type": "code",
   "execution_count": 27,
   "metadata": {
    "collapsed": false
   },
   "outputs": [
    {
     "name": "stdout",
     "output_type": "stream",
     "text": [
      "Number of links (total): 142114057\n",
      "Number of nodes: 5781290\n",
      "Average number of links per node: 24.5817208616\n"
     ]
    }
   ],
   "source": [
    "total = 0\n",
    "n = 0\n",
    "with open('totals.txt','r') as totalfile, open('Ns.txt','r') as nfile:\n",
    "    for tline,nline in zip(totalfile,nfile):\n",
    "        _,tot = tline.split()\n",
    "        _,ns = nline.split()\n",
    "        total += int(tot)\n",
    "        n += int(ns)\n",
    "print 'Number of links (total): {0}'.format(total)\n",
    "print 'Number of nodes: {0}'.format(n)\n",
    "print 'Average number of links per node: {0}'.format(float(total)/n)"
   ]
  },
  {
   "cell_type": "code",
   "execution_count": 77,
   "metadata": {
    "collapsed": false
   },
   "outputs": [
    {
     "name": "stdout",
     "output_type": "stream",
     "text": [
      "6075728\t2960\r\n",
      "7900831\t2971\r\n",
      "7912072\t3074\r\n",
      "7812370\t3166\r\n",
      "7812280\t3379\r\n",
      "7911901\t4161\r\n",
      "7768780\t4817\r\n",
      "7902703\t5399\r\n",
      "\"N\"\t384601\r\n",
      "\"Total\"\t9471579\r\n"
     ]
    }
   ],
   "source": [
    "!hadoop fs -cat /tmp/alenart_hdfs/eda73/part-00000 | tail -10"
   ]
  },
  {
   "cell_type": "markdown",
   "metadata": {},
   "source": [
    "Assume that the result of any of the reducers is a random sample of the population. For the sake of convenience, instead of writing a mapreduce program that calculates the quantile function of the whole dataset, plot only the results of the first reducer."
   ]
  },
  {
   "cell_type": "code",
   "execution_count": 78,
   "metadata": {
    "collapsed": true
   },
   "outputs": [],
   "source": [
    "!hadoop fs -cat /tmp/alenart_hdfs/eda73/part-00000 > data.txt \n",
    "!awk -F\" \" '{print $2}' data.txt > num_links.txt"
   ]
  },
  {
   "cell_type": "markdown",
   "metadata": {},
   "source": [
    "Hadoop already returned the results sorted by the second column, hence we don't need to sort again, e.g."
   ]
  },
  {
   "cell_type": "code",
   "execution_count": 80,
   "metadata": {
    "collapsed": false
   },
   "outputs": [
    {
     "data": {
      "text/plain": [
       "<matplotlib.text.Text at 0x7ff0afb6a690>"
      ]
     },
     "execution_count": 80,
     "metadata": {},
     "output_type": "execute_result"
    },
    {
     "data": {
      "image/png": "[encoded data removed]",
      "text/plain": [
       "<matplotlib.figure.Figure at 0x7ff0b22e8dd0>"
      ]
     },
     "metadata": {},
     "output_type": "display_data"
    }
   ],
   "source": [
    "%matplotlib inline\n",
    "import matplotlib.pyplot as plt\n",
    "import numpy as np\n",
    "\n",
    "num_links = []\n",
    "with open('num_links.txt','r') as infile:\n",
    "    for line in infile:\n",
    "        num_links.append(int(line.strip()))\n",
    "        \n",
    "\n",
    "num_links = list(num_links[:-2])\n",
    "yvals = 1-np.arange(len(num_links))/float(len(num_links))\n",
    "plt.plot(np.log10(num_links), np.log10(yvals))\n",
    "plt.title('ECDF on log-log axes')\n",
    "plt.xlabel('Number of links (powers of 10)')\n",
    "plt.ylabel('Distribution (powers of 10)')"
   ]
  },
  {
   "cell_type": "markdown",
   "metadata": {},
   "source": [
    "<h1 style=\"color:#021353;\"> Shortest path graph distances (Wikipedia)</h1>\n",
    "<div style=\"margin:10px;border-left:5px solid #eee;\">\n",
    "<pre style=\"font-family:sans-serif;background-color:transparent\">\n",
    "\n",
    "\n",
    "When running your code on the Wikipedia network, proof its function by running the job:\n",
    "\n",
    "- shortest path from \"Ireland\" (index=6176135) to \"University of California, Berkeley\" (index=13466359),\n",
    "\n",
    "and show your code's output. Show the shortest path in terms of just page IDS but also in terms of the name of page (show of your MapReduce join skills!!)\n",
    "\n",
    "Once your code is running, find some other shortest paths and report your results.\n",
    "</pre>\n",
    "</div>"
   ]
  },
  {
   "cell_type": "code",
   "execution_count": 15,
   "metadata": {
    "collapsed": true
   },
   "outputs": [],
   "source": [
    "!hadoop fs -mkdir /tmp/alenart_hdfs/sp74\n",
    "!/opt/anaconda2/bin/python MRShortestPathInitializer.py $DATA -r hadoop --python-bin $PYTHON_BIN  --no-output --output-dir $HDFS_FOLDER/new \n",
    "        --source_node $SOURCE_NODE -q --n_mappers 150"
   ]
  },
  {
   "cell_type": "code",
   "execution_count": 93,
   "metadata": {
    "collapsed": false
   },
   "outputs": [
    {
     "name": "stdout",
     "output_type": "stream",
     "text": [
      "Overwriting wiki_shortest_path_driver.sh\n"
     ]
    }
   ],
   "source": [
    "%%writefile wiki_shortest_path_driver.sh\n",
    "#!/bin/bash\n",
    "\n",
    "HDFS_FOLDER=/tmp/alenart_hdfs/sp74\n",
    "DATA=hdfs:///tmp/hw7/wiki_out.txt\n",
    "PYTHON_BIN=/opt/anaconda2/bin/python2.7\n",
    "VISITED=0\n",
    "SOURCE_NODE=6176135\n",
    "TARGET_NODE=13466359\n",
    "i=1\n",
    "\n",
    "hadoop fs -rm -r $HDFS_FOLDER/new\n",
    "\n",
    "echo \"Initializing the graph.\"\n",
    "$PYTHON_BIN MRShortestPathInitializer.py $DATA -r hadoop --no-output --output-dir $HDFS_FOLDER/new \\\n",
    "    --source_node $SOURCE_NODE --n_mappers 150 -q\n",
    "\n",
    "\n",
    "while (($VISITED == 0))\n",
    "   do\n",
    "      echo \"iteration $i\"\n",
    "      ((i = i + 1))\n",
    "      echo \"Clean up.\"\n",
    "      hadoop fs -rm -r $HDFS_FOLDER/visit\n",
    "      hadoop fs -rm -r $HDFS_FOLDER/old\n",
    "      hadoop fs -mv $HDFS_FOLDER/new $HDFS_FOLDER/old\n",
    "      echo \"Expand frontier.\"\n",
    "      $PYTHON_BIN MRShortestPathExpander.py hdfs://$HDFS_FOLDER/old/* -r hadoop --no-output \\\n",
    "       --output-dir $HDFS_FOLDER/new --n_mappers 150 --n_reducers 15  -q \n",
    "      echo \"Checking whether node $TARGET_NODE is visited...\"\n",
    "      $PYTHON_BIN MRVisitChecker.py hdfs://$HDFS_FOLDER/new/* -r hadoop --no-output --output-dir $HDFS_FOLDER/visit \\\n",
    "       --target_node $TARGET_NODE --n_mappers 100 -q\n",
    "      VISITED=$(hadoop fs -cat $HDFS_FOLDER/visit/* | grep 'True' | wc -l)\n",
    "      if [ $VISITED -eq 0 ]; then\n",
    "          echo \"Not yet.\"\n",
    "      fi\n",
    "done\n",
    "\n",
    "echo \"$TARGET_NODE is visited.\"\n",
    "\n",
    "echo \"Clean up.\"\n",
    "hadoop fs -rm -r $HDFS_FOLDER/result\n",
    "echo \"Returning shortest path(s):\"\n",
    "$PYTHON_BIN MRShortestPathFinder.py hdfs://$HDFS_FOLDER/new/* -r hadoop --target_node $TARGET_NODE --no-output \\\n",
    "     --output-dir $HDFS_FOLDER/result --n_mappers 100 -q\n",
    "hadoop fs -cat $HDFS_FOLDER/result/*"
   ]
  },
  {
   "cell_type": "code",
   "execution_count": 94,
   "metadata": {
    "collapsed": false
   },
   "outputs": [
    {
     "name": "stdout",
     "output_type": "stream",
     "text": [
      "17/03/14 15:41:22 INFO fs.TrashPolicyDefault: Namenode trash configuration: Deletion interval = 5760 minutes, Emptier interval = 360 minutes.\n",
      "Moved: 'hdfs://nn-ia.s3s.altiscale.com:8020/tmp/alenart_hdfs/sp74/new' to trash at: hdfs://nn-ia.s3s.altiscale.com:8020/user/alenart/.Trash/Current\n",
      "Initializing the graph.\n",
      "iteration 1\n",
      "Clean up.\n",
      "17/03/14 15:43:30 INFO fs.TrashPolicyDefault: Namenode trash configuration: Deletion interval = 5760 minutes, Emptier interval = 360 minutes.\n",
      "Moved: 'hdfs://nn-ia.s3s.altiscale.com:8020/tmp/alenart_hdfs/sp74/visit' to trash at: hdfs://nn-ia.s3s.altiscale.com:8020/user/alenart/.Trash/Current\n",
      "17/03/14 15:43:33 INFO fs.TrashPolicyDefault: Namenode trash configuration: Deletion interval = 5760 minutes, Emptier interval = 360 minutes.\n",
      "Moved: 'hdfs://nn-ia.s3s.altiscale.com:8020/tmp/alenart_hdfs/sp74/old' to trash at: hdfs://nn-ia.s3s.altiscale.com:8020/user/alenart/.Trash/Current\n",
      "Expand frontier.\n",
      "Checking whether node 13466359 is visited...\n",
      "Not yet.\n",
      "iteration 2\n",
      "Clean up.\n",
      "17/03/14 15:51:10 INFO fs.TrashPolicyDefault: Namenode trash configuration: Deletion interval = 5760 minutes, Emptier interval = 360 minutes.\n",
      "Moved: 'hdfs://nn-ia.s3s.altiscale.com:8020/tmp/alenart_hdfs/sp74/visit' to trash at: hdfs://nn-ia.s3s.altiscale.com:8020/user/alenart/.Trash/Current\n",
      "17/03/14 15:51:12 INFO fs.TrashPolicyDefault: Namenode trash configuration: Deletion interval = 5760 minutes, Emptier interval = 360 minutes.\n",
      "Moved: 'hdfs://nn-ia.s3s.altiscale.com:8020/tmp/alenart_hdfs/sp74/old' to trash at: hdfs://nn-ia.s3s.altiscale.com:8020/user/alenart/.Trash/Current\n",
      "Expand frontier.\n",
      "Checking whether node 13466359 is visited...\n",
      "Not yet.\n",
      "iteration 3\n",
      "Clean up.\n",
      "17/03/14 15:58:52 INFO fs.TrashPolicyDefault: Namenode trash configuration: Deletion interval = 5760 minutes, Emptier interval = 360 minutes.\n",
      "Moved: 'hdfs://nn-ia.s3s.altiscale.com:8020/tmp/alenart_hdfs/sp74/visit' to trash at: hdfs://nn-ia.s3s.altiscale.com:8020/user/alenart/.Trash/Current\n",
      "17/03/14 15:58:54 INFO fs.TrashPolicyDefault: Namenode trash configuration: Deletion interval = 5760 minutes, Emptier interval = 360 minutes.\n",
      "Moved: 'hdfs://nn-ia.s3s.altiscale.com:8020/tmp/alenart_hdfs/sp74/old' to trash at: hdfs://nn-ia.s3s.altiscale.com:8020/user/alenart/.Trash/Current\n",
      "Expand frontier.\n",
      "Checking whether node 13466359 is visited...\n",
      "13466359 is visited.\n",
      "Clean up.\n",
      "17/03/14 16:07:42 INFO fs.TrashPolicyDefault: Namenode trash configuration: Deletion interval = 5760 minutes, Emptier interval = 360 minutes.\n",
      "Moved: 'hdfs://nn-ia.s3s.altiscale.com:8020/tmp/alenart_hdfs/sp74/result' to trash at: hdfs://nn-ia.s3s.altiscale.com:8020/user/alenart/.Trash/Current\n",
      "Returning shortest path(s):\n",
      "\"13466359\"\t[3, [\"6176135\", \"11607791\", \"13466359\"]]\n"
     ]
    }
   ],
   "source": [
    "!bash wiki_shortest_path_driver.sh"
   ]
  },
  {
   "cell_type": "code",
   "execution_count": 97,
   "metadata": {
    "collapsed": false
   },
   "outputs": [
    {
     "name": "stdout",
     "output_type": "stream",
     "text": [
      "Seamus Heaney\t11607791\t793\t335\r\n"
     ]
    }
   ],
   "source": [
    "!hadoop fs -cat /tmp/hw7/wiki_indices.txt | grep '11607791'"
   ]
  }
 ],
 "metadata": {
  "anaconda-cloud": {},
  "kernelspec": {
   "display_name": "Python [conda env:python2]",
   "language": "python",
   "name": "conda-env-python2-py"
  },
  "language_info": {
   "codemirror_mode": {
    "name": "ipython",
    "version": 2
   },
   "file_extension": ".py",
   "mimetype": "text/x-python",
   "name": "python",
   "nbconvert_exporter": "python",
   "pygments_lexer": "ipython2",
   "version": "2.7.12"
  },
  "toc": {
   "colors": {
    "hover_highlight": "#DAA520",
    "running_highlight": "#FF0000",
    "selected_highlight": "#FFD700"
   },
   "moveMenuLeft": true,
   "nav_menu": {
    "height": "380px",
    "width": "252px"
   },
   "navigate_menu": true,
   "number_sections": true,
   "sideBar": false,
   "threshold": 4,
   "toc_cell": true,
   "toc_section_display": "block",
   "toc_window_display": true
  }
 },
 "nbformat": 4,
 "nbformat_minor": 0
}
